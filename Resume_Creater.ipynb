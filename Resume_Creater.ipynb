{
  "nbformat": 4,
  "nbformat_minor": 0,
  "metadata": {
    "colab": {
      "provenance": [],
      "mount_file_id": "1X60OxIGgsLkcBPMMvtJ92ylqDFnOmh1c",
      "authorship_tag": "ABX9TyMtpTv0YgEzwBOo17uX3AmF",
      "include_colab_link": true
    },
    "kernelspec": {
      "name": "python3",
      "display_name": "Python 3"
    },
    "language_info": {
      "name": "python"
    }
  },
  "cells": [
    {
      "cell_type": "markdown",
      "metadata": {
        "id": "view-in-github",
        "colab_type": "text"
      },
      "source": [
        "<a href=\"https://colab.research.google.com/github/arekaratharv28/ResumeProjects/blob/main/Resume_Creater.ipynb\" target=\"_parent\"><img src=\"https://colab.research.google.com/assets/colab-badge.svg\" alt=\"Open In Colab\"/></a>"
      ]
    },
    {
      "cell_type": "code",
      "execution_count": 6,
      "metadata": {
        "id": "iNApmAAgrV3y"
      },
      "outputs": [],
      "source": [
        "import sys\n",
        "from pdfminer.high_level import extract_text\n",
        "\n",
        "def pdf_to_html(pdf_path, html_path, css_filename):\n",
        "    # Extract the text from the PDF file.\n",
        "    text = extract_text(pdf_path)\n",
        "\n",
        "    # Split text into paragraphs (attempting to detect sections).\n",
        "    paragraphs = [p.strip() for p in text.split('\\n\\n') if p.strip()]\n",
        "\n",
        "    # Use the first paragraph as the name and the second (if available) as contact info.\n",
        "    if paragraphs:\n",
        "        name = paragraphs[0]\n",
        "        contact_info = paragraphs[1] if len(paragraphs) > 1 else \"\"\n",
        "        # The remaining paragraphs are treated as the main content.\n",
        "        body_paragraphs = paragraphs[2:] if len(paragraphs) > 2 else paragraphs[1:] if len(paragraphs) > 1 else []\n",
        "    else:\n",
        "        name = \"Your Name\"\n",
        "        contact_info = \"\"\n",
        "        body_paragraphs = []\n",
        "\n",
        "    # CSS content mimicking the Free ATS Bold Classic Resume Template by Microsoft.\n",
        "    css_content = \"\"\"\n",
        "    body {\n",
        "      margin: 0;\n",
        "      padding: 0;\n",
        "      font-family: 'Calibri', sans-serif;\n",
        "      background: #f5f5f5;\n",
        "    }\n",
        "    .resume-container {\n",
        "      max-width: 800px;\n",
        "      margin: 20px auto;\n",
        "      background: #ffffff;\n",
        "      box-shadow: 0 0 10px rgba(0,0,0,0.1);\n",
        "    }\n",
        "    .resume-header {\n",
        "      background: #1f497d;\n",
        "      color: white;\n",
        "      padding: 20px;\n",
        "      text-align: center;\n",
        "    }\n",
        "    .resume-header h1 {\n",
        "      margin: 0;\n",
        "      font-size: 36px;\n",
        "      font-weight: bold;\n",
        "    }\n",
        "    .resume-header .contact-info {\n",
        "      margin-top: 10px;\n",
        "      font-size: 16px;\n",
        "    }\n",
        "    .resume-content {\n",
        "      padding: 20px;\n",
        "      line-height: 1.6;\n",
        "      color: #333;\n",
        "    }\n",
        "    .resume-content p {\n",
        "      margin-bottom: 15px;\n",
        "    }\n",
        "    .section-title {\n",
        "      border-bottom: 2px solid #1f497d;\n",
        "      padding-bottom: 5px;\n",
        "      margin-top: 30px;\n",
        "      color: #1f497d;\n",
        "      font-size: 24px;\n",
        "      font-weight: bold;\n",
        "    }\n",
        "    \"\"\"\n",
        "\n",
        "    # Write the CSS file.\n",
        "    with open(css_filename, 'w', encoding='utf-8') as css_file:\n",
        "        css_file.write(css_content)\n",
        "\n",
        "    # Construct the HTML content.\n",
        "    html_content = f\"\"\"<!DOCTYPE html>\n",
        "<html lang=\"en\">\n",
        "<head>\n",
        "  <meta charset=\"UTF-8\">\n",
        "  <title>Resume - ATS Bold Classic</title>\n",
        "  <link rel=\"stylesheet\" type=\"text/css\" href=\"{css_filename}\">\n",
        "</head>\n",
        "<body>\n",
        "  <div class=\"resume-container\">\n",
        "    <div class=\"resume-header\">\n",
        "      <h1>{name}</h1>\n",
        "      <div class=\"contact-info\">{contact_info}</div>\n",
        "    </div>\n",
        "    <div class=\"resume-content\">\n",
        "\"\"\"\n",
        "    # Insert each body paragraph into the resume content.\n",
        "    for para in body_paragraphs:\n",
        "        html_content += f\"      <p>{para}</p>\\n\"\n",
        "\n",
        "    html_content += \"\"\"    </div>\n",
        "  </div>\n",
        "</body>\n",
        "</html>\n",
        "\"\"\"\n",
        "\n",
        "    # Write the final HTML file.\n",
        "    with open(html_path, 'w', encoding='utf-8') as html_file:\n",
        "        html_file.write(html_content)\n",
        "\n",
        "if __name__ == '__main__':\n",
        "    pdf_file = '/content/drive/MyDrive/Atharv/Resume/Resume Jan\\'25.pdf'  # Replace with your actual PDF file path\n",
        "    html_file = '/content/drive/MyDrive/Atharv/Resume/output.html' # Replace with your desired HTML output path\n",
        "    css_file = '/content/drive/MyDrive/Atharv/Resume/output.css'  # Replace with your desired CSS output path\n",
        "    pdf_to_html(pdf_file, html_file, css_file)\n"
      ]
    },
    {
      "source": [
        "!pip install pdfminer.six"
      ],
      "cell_type": "code",
      "metadata": {
        "colab": {
          "base_uri": "https://localhost:8080/"
        },
        "id": "olqRSyjcri_E",
        "outputId": "b40f1f65-320b-4a44-d714-b21ac19ab7fa"
      },
      "execution_count": 2,
      "outputs": [
        {
          "output_type": "stream",
          "name": "stdout",
          "text": [
            "Collecting pdfminer.six\n",
            "  Downloading pdfminer.six-20240706-py3-none-any.whl.metadata (4.1 kB)\n",
            "Requirement already satisfied: charset-normalizer>=2.0.0 in /usr/local/lib/python3.11/dist-packages (from pdfminer.six) (3.4.1)\n",
            "Requirement already satisfied: cryptography>=36.0.0 in /usr/local/lib/python3.11/dist-packages (from pdfminer.six) (43.0.3)\n",
            "Requirement already satisfied: cffi>=1.12 in /usr/local/lib/python3.11/dist-packages (from cryptography>=36.0.0->pdfminer.six) (1.17.1)\n",
            "Requirement already satisfied: pycparser in /usr/local/lib/python3.11/dist-packages (from cffi>=1.12->cryptography>=36.0.0->pdfminer.six) (2.22)\n",
            "Downloading pdfminer.six-20240706-py3-none-any.whl (5.6 MB)\n",
            "\u001b[2K   \u001b[90m━━━━━━━━━━━━━━━━━━━━━━━━━━━━━━━━━━━━━━━━\u001b[0m \u001b[32m5.6/5.6 MB\u001b[0m \u001b[31m31.0 MB/s\u001b[0m eta \u001b[36m0:00:00\u001b[0m\n",
            "\u001b[?25hInstalling collected packages: pdfminer.six\n",
            "Successfully installed pdfminer.six-20240706\n"
          ]
        }
      ]
    }
  ]
}