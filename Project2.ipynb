{
  "nbformat": 4,
  "nbformat_minor": 0,
  "metadata": {
    "colab": {
      "provenance": [],
      "authorship_tag": "ABX9TyNtX1Kwuo/C+74OolCayVAx",
      "include_colab_link": true
    },
    "kernelspec": {
      "name": "python3",
      "display_name": "Python 3"
    },
    "language_info": {
      "name": "python"
    }
  },
  "cells": [
    {
      "cell_type": "markdown",
      "metadata": {
        "id": "view-in-github",
        "colab_type": "text"
      },
      "source": [
        "<a href=\"https://colab.research.google.com/github/arekaratharv28/ResumeProjects/blob/main/Project2.ipynb\" target=\"_parent\"><img src=\"https://colab.research.google.com/assets/colab-badge.svg\" alt=\"Open In Colab\"/></a>"
      ]
    },
    {
      "source": [
        "import pandas as pd\n",
        "from sklearn.metrics.pairwise import cosine_similarity\n",
        "from sklearn.feature_extraction.text import TfidfVectorizer\n",
        "\n",
        "# Sample movie data (replace with your actual data)\n",
        "data = {'MovieID': [1, 2, 3, 4, 5],\n",
        "        'Title': ['Movie A', 'Movie B', 'Movie C', 'Movie D', 'Movie E'],\n",
        "        'Genre': ['Action,Sci-Fi', 'Comedy,Romance', 'Action,Thriller', 'Drama', 'Comedy'],\n",
        "        'Description': ['A thrilling sci-fi adventure', 'A hilarious romantic comedy', 'An action-packed thriller', 'A touching drama', 'A funny comedy']}\n",
        "movies = pd.DataFrame(data)"
      ],
      "cell_type": "code",
      "metadata": {
        "id": "DygYbmrT8rTC"
      },
      "execution_count": 3,
      "outputs": []
    },
    {
      "source": [
        "def create_movie_recommendations(movie_title, movies_df, top_n=5):\n",
        "    # Create TF-IDF matrix\n",
        "    tfidf = TfidfVectorizer(stop_words='english')\n",
        "    tfidf_matrix = tfidf.fit_transform(movies_df['Description'])\n",
        "\n",
        "    # Calculate cosine similarity\n",
        "    cosine_sim = cosine_similarity(tfidf_matrix, tfidf_matrix)\n",
        "\n",
        "    # Find the index of the movie\n",
        "    movie_index = movies_df[movies_df['Title'] == movie_title].index\n",
        "    if len(movie_index) == 0: # If the length is zero then the movie title does not exist in the dataframe\n",
        "      print(f\"Error: '{movie_title}' not found in the movie list.\")\n",
        "      return [] # return an empty list so we do not encounter an error\n",
        "\n",
        "    movie_index = movie_index[0] # set movie index to the first and only element if it exists.\n",
        "\n",
        "    # Get similarity scores for the movie\n",
        "    similarity_scores = list(enumerate(cosine_sim[movie_index]))\n",
        "\n",
        "    # Sort movies based on similarity scores\n",
        "    similarity_scores = sorted(similarity_scores, key=lambda x: x[1], reverse=True)\n",
        "\n",
        "    # Check if there are enough similar movies\n",
        "    if len(similarity_scores) <= top_n:\n",
        "        print(f\"Warning: Not enough movies to recommend. Returning all {len(similarity_scores)-1} similar movies.\")\n",
        "        top_n = len(similarity_scores) - 1\n",
        "\n",
        "    # Get top N similar movies\n",
        "    top_movies = []\n",
        "    for i in range(1, top_n + 1): # This loop starts at 1 to avoid recommending the same movie back to the user.\n",
        "        movie_idx = similarity_scores[i][0]\n",
        "        top_movies.append(movies_df.iloc[movie_idx]['Title'])\n",
        "    return top_movies"
      ],
      "cell_type": "code",
      "metadata": {
        "id": "JJBuvj2M81o0"
      },
      "execution_count": 4,
      "outputs": []
    },
    {
      "source": [
        "# Example usage:\n",
        "movie_title = 'Movie A'\n",
        "recommendations = create_movie_recommendations(movie_title, movies)\n",
        "print(f\"Recommended movies for '{movie_title}': {recommendations}\")\n",
        "\n",
        "movie_title = 'Movie Z' # Testing the error situation where movie_title does not exist\n",
        "recommendations = create_movie_recommendations(movie_title, movies)\n",
        "print(f\"Recommended movies for '{movie_title}': {recommendations}\")\n",
        "\n",
        "movie_title = 'Movie A'\n",
        "recommendations = create_movie_recommendations(movie_title, movies, top_n=6) # Testing the edge case where not enough movies exist\n",
        "print(f\"Recommended movies for '{movie_title}': {recommendations}\")"
      ],
      "cell_type": "code",
      "metadata": {
        "colab": {
          "base_uri": "https://localhost:8080/"
        },
        "id": "CsESugeb86hX",
        "outputId": "8d108650-61f8-4e93-900c-cbef6d97561a"
      },
      "execution_count": 5,
      "outputs": [
        {
          "output_type": "stream",
          "name": "stdout",
          "text": [
            "Warning: Not enough movies to recommend. Returning all 4 similar movies.\n",
            "Recommended movies for 'Movie A': ['Movie B', 'Movie C', 'Movie D', 'Movie E']\n",
            "Error: 'Movie Z' not found in the movie list.\n",
            "Recommended movies for 'Movie Z': []\n",
            "Warning: Not enough movies to recommend. Returning all 4 similar movies.\n",
            "Recommended movies for 'Movie A': ['Movie B', 'Movie C', 'Movie D', 'Movie E']\n"
          ]
        }
      ]
    }
  ]
}