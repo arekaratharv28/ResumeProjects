{
  "nbformat": 4,
  "nbformat_minor": 0,
  "metadata": {
    "colab": {
      "provenance": [],
      "authorship_tag": "ABX9TyNqepZ20/nep4rFHsTfyO+l",
      "include_colab_link": true
    },
    "kernelspec": {
      "name": "python3",
      "display_name": "Python 3"
    },
    "language_info": {
      "name": "python"
    }
  },
  "cells": [
    {
      "cell_type": "markdown",
      "metadata": {
        "id": "view-in-github",
        "colab_type": "text"
      },
      "source": [
        "<a href=\"https://colab.research.google.com/github/arekaratharv28/ResumeProjects/blob/main/Python_Code_Reviewer.ipynb\" target=\"_parent\"><img src=\"https://colab.research.google.com/assets/colab-badge.svg\" alt=\"Open In Colab\"/></a>"
      ]
    },
    {
      "cell_type": "code",
      "source": [
        "# Intelligent Code Review Assistant\n",
        "# This script demonstrates an original solution for generating code review comments.\n",
        "# It uses Hugging Face's transformers pipeline with GPT‑2 to generate natural language feedback.\n",
        "\n",
        "!pip install transformers --quiet\n",
        "\n",
        "from transformers import pipeline\n",
        "\n",
        "# Load a text-generation pipeline using GPT-2.\n",
        "generator = pipeline('text-generation', model='gpt2')\n",
        "\n",
        "def code_review_assistant(code: str) -> str:\n",
        "    \"\"\"\n",
        "    Generates a code review comment for a given Python code snippet.\n",
        "\n",
        "    Args:\n",
        "        code (str): The code snippet to be reviewed.\n",
        "\n",
        "    Returns:\n",
        "        str: A generated code review comment.\n",
        "    \"\"\"\n",
        "    # Prepare the prompt with clear instructions.\n",
        "    prompt = (\n",
        "        \"You are an expert software engineer performing a code review. \"\n",
        "        \"Please provide a constructive review for the following Python code snippet. \"\n",
        "        \"Focus on code clarity, potential issues, style improvements, and any other suggestions.\\n\\n\"\n",
        "        \"Code Snippet:\\n\"\n",
        "        f\"{code}\\n\\n\"\n",
        "        \"Review:\"\n",
        "    )\n",
        "\n",
        "    # Generate the review text.\n",
        "    generated = generator(prompt, max_length=250, num_return_sequences=1)\n",
        "    # Extract and return the generated text.\n",
        "    review_text = generated[0]['generated_text']\n",
        "\n",
        "    # Optionally, you can process the output to remove the prompt if needed.\n",
        "    # For simplicity, we return the full output.\n",
        "    return review_text\n",
        "\n",
        "# Example usage:\n",
        "if __name__ == \"__main__\":\n",
        "    # A sample Python function to be reviewed.\n",
        "    sample_code = \"\"\"\n",
        "def add(a, b):\n",
        "    # This function returns the sum of a and b.\n",
        "    result = a + b\n",
        "    return result\n",
        "\"\"\"\n",
        "    review_comment = code_review_assistant(sample_code)\n",
        "    print(\"=== Code Review Comment ===\")\n",
        "    print(review_comment)\n"
      ],
      "metadata": {
        "colab": {
          "base_uri": "https://localhost:8080/"
        },
        "id": "8X9Y62TAyqL3",
        "outputId": "e967eaef-559f-4ff8-8d02-0fcb70c76647"
      },
      "execution_count": 5,
      "outputs": [
        {
          "output_type": "stream",
          "name": "stderr",
          "text": [
            "Device set to use cpu\n",
            "Truncation was not explicitly activated but `max_length` is provided a specific value, please use `truncation=True` to explicitly truncate examples to max length. Defaulting to 'longest_first' truncation strategy. If you encode pairs of sequences (GLUE-style) with the tokenizer you can select this strategy more precisely by providing a specific strategy to `truncation`.\n",
            "Setting `pad_token_id` to `eos_token_id`:50256 for open-end generation.\n"
          ]
        },
        {
          "output_type": "stream",
          "name": "stdout",
          "text": [
            "=== Code Review Comment ===\n",
            "You are an expert software engineer performing a code review. Please provide a constructive review for the following Python code snippet. Focus on code clarity, potential issues, style improvements, and any other suggestions.\n",
            "\n",
            "Code Snippet:\n",
            "\n",
            "def add(a, b):\n",
            "    # This function returns the sum of a and b.\n",
            "    result = a + b\n",
            "    return result\n",
            "\n",
            "\n",
            "Review:\n",
            "\n",
            "def review(p, c):\n",
            "\n",
            "(a = c)\n",
            "\n",
            "(b = p.indexOf(a, b))\n",
            "\n",
            "(c = p.indexOf(b, c))\n",
            "\n",
            "(d, Eq = p.async,\n",
            "\n",
            "Eq = eq)\n",
            "\n",
            "\n",
            "The code in step 2 is an Eq method. The code is called for each method call into a method.\n",
            "\n",
            "class B () { def add(x, y): return\n",
            "\n",
            "(x < 0.5 )?\n",
            "\n",
            "eq(x, y) :\n",
            "\n",
            "eq(x, y)\n",
            "\n",
            "}\n",
            "\n",
            "class F ( A * b ) : F ( A, B, c ): B () { def add(a\n"
          ]
        }
      ]
    }
  ]
}